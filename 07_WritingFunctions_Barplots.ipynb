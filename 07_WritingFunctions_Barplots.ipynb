{
 "cells": [
  {
   "cell_type": "markdown",
   "metadata": {},
   "source": [
    "# Writing functions\n",
    "\n",
    "1. Give it a def name( ):\n",
    "\n",
    "\n",
    "2. Write a docstring - allows other people reading your code to know what the purpose of the function is!\n",
    "\n",
    "\n",
    "3. Decide parameters\n",
    "\n",
    "\n",
    "4. Decide return\n",
    "\n",
    "\n",
    "5. Implement\n",
    "\n",
    "\n",
    "6. Test\n",
    "\n",
    "**Let's generate a bar plot!**"
   ]
  },
  {
   "cell_type": "markdown",
   "metadata": {},
   "source": [
    "#### Convention: \n",
    "\n",
    "- function names are lower_case_with_underscores\n",
    "\n",
    "- place imports at the top of the file\n",
    "\n",
    "- Function paramaters:\n",
    "    1. Obligatory\n",
    "    2. Parameters with default values (always goes after obligatory)\n",
    "    3. *args - list of extra parameters (any number)\n",
    "    4. **kwargs - dictionary of extra named parameters (any number)\n",
    "    "
   ]
  },
  {
   "cell_type": "code",
   "execution_count": 1,
   "metadata": {},
   "outputs": [],
   "source": [
    "from matplotlib import pyplot as plt\n",
    "%matplotlib inline"
   ]
  },
  {
   "cell_type": "code",
   "execution_count": 2,
   "metadata": {},
   "outputs": [
    {
     "name": "stdout",
     "output_type": "stream",
     "text": [
      "Hello World\n"
     ]
    }
   ],
   "source": [
    "def barplot(): #That's the first step completed!\n",
    "    '''\n",
    "    Draws a super nice barplot using my favourite colours \n",
    "    Displays the plot on the screen\n",
    "    '''\n",
    "    ... #is a valid python command that is just like passing \n",
    "        #it results in no errors\n",
    "    \n",
    "    print(\"Hello World\") # This can be used to check function is working\n",
    "    \n",
    "barplot() # call the function to check it's working on python shell"
   ]
  },
  {
   "cell_type": "code",
   "execution_count": 2,
   "metadata": {},
   "outputs": [
    {
     "data": {
      "image/png": "[encoded data removed]",
      "text/plain": [
       "<Figure size 432x288 with 1 Axes>"
      ]
     },
     "metadata": {
      "needs_background": "light"
     },
     "output_type": "display_data"
    }
   ],
   "source": [
    "def barplot():\n",
    "    \n",
    "    '''\n",
    "    Draws a super nice barplot using my favourite colours \n",
    "    Displays the plot on the screen\n",
    "    '''\n",
    "    x = range(1,5)\n",
    "    \n",
    "    y = [20,50,10,30]\n",
    "\n",
    "    plt.bar(x, y, color = ['red', 'orange', 'blue', 'green'])\n",
    "    plt.show()\n",
    "    \n",
    "barplot()"
   ]
  },
  {
   "cell_type": "code",
   "execution_count": 4,
   "metadata": {},
   "outputs": [
    {
     "data": {
      "image/png": "[encoded data removed]",
      "text/plain": [
       "<Figure size 432x288 with 1 Axes>"
      ]
     },
     "metadata": {
      "needs_background": "light"
     },
     "output_type": "display_data"
    }
   ],
   "source": [
    "def barplot(y):\n",
    "    '''\n",
    "    Draws a super nice barplot using my favourite colours \n",
    "    Displays the plot on the screen\n",
    "    '''\n",
    "    x = range(1,5)\n",
    "\n",
    "    plt.bar(x, y, color = ['red', 'orange', 'blue', 'green'])\n",
    "    plt.show()\n",
    "    \n",
    "data = [20,50,10,30]\n",
    "    \n",
    "barplot(data)"
   ]
  },
  {
   "cell_type": "markdown",
   "metadata": {},
   "source": [
    "#### Now let's introduce an optional argument!\n",
    "- If you don't specify the argument, it will revert to the default defined in the function!"
   ]
  },
  {
   "cell_type": "code",
   "execution_count": 6,
   "metadata": {},
   "outputs": [
    {
     "data": {
      "image/png": "[encoded data removed]",
      "text/plain": [
       "<Figure size 432x288 with 1 Axes>"
      ]
     },
     "metadata": {
      "needs_background": "light"
     },
     "output_type": "display_data"
    },
    {
     "data": {
      "image/png": "[encoded data removed]",
      "text/plain": [
       "<Figure size 432x288 with 1 Axes>"
      ]
     },
     "metadata": {
      "needs_background": "light"
     },
     "output_type": "display_data"
    }
   ],
   "source": [
    "def barplot(y, title='Some Barplot'): \n",
    "    '''\n",
    "    Draws a super nice barplot using my favourite colours \n",
    "    Displays the plot on the screen\n",
    "    '''\n",
    "    x = range(1,5)\n",
    "\n",
    "    plt.bar(x, y, color = ['red', 'orange', 'blue', 'green'])\n",
    "    plt.title(title)\n",
    "    plt.show()\n",
    "    \n",
    "data = [20,50,10,30]\n",
    "    \n",
    "barplot(data) # This one runs default title\n",
    "barplot(data, title = 'My First Barplot')"
   ]
  },
  {
   "cell_type": "code",
   "execution_count": 7,
   "metadata": {
    "scrolled": true
   },
   "outputs": [
    {
     "name": "stdout",
     "output_type": "stream",
     "text": [
      "(1, 2, 3)\n"
     ]
    },
    {
     "data": {
      "image/png": "[encoded data removed]",
      "text/plain": [
       "<Figure size 432x288 with 1 Axes>"
      ]
     },
     "metadata": {
      "needs_background": "light"
     },
     "output_type": "display_data"
    }
   ],
   "source": [
    "def barplot(y, title='Some Barplot', *args): \n",
    "    '''\n",
    "    Draws a super nice barplot using my favourite colours \n",
    "    Displays the plot on the screen\n",
    "    '''\n",
    "    print(args)\n",
    "    \n",
    "    x = range(1,5)\n",
    "\n",
    "    plt.bar(x, y, color = ['red', 'orange', 'blue', 'green'])\n",
    "    plt.title(title)\n",
    "    plt.show()\n",
    "    \n",
    "data = [20,50,10,30]\n",
    "\n",
    "#Need to remove 'title=' \n",
    "barplot(data,'My First Barplot', 1, 2, 3)"
   ]
  },
  {
   "cell_type": "markdown",
   "metadata": {},
   "source": [
    "#### Now we can actually use *args to specify colour of bar plot outside the function!"
   ]
  },
  {
   "cell_type": "code",
   "execution_count": 11,
   "metadata": {},
   "outputs": [
    {
     "name": "stdout",
     "output_type": "stream",
     "text": [
      "{'filename': 'bar.png'}\n"
     ]
    },
    {
     "data": {
      "image/png": "[encoded data removed]",
      "text/plain": [
       "<Figure size 432x288 with 1 Axes>"
      ]
     },
     "metadata": {
      "needs_background": "light"
     },
     "output_type": "display_data"
    }
   ],
   "source": [
    "def barplot(y, title='Some Barplot', *args, **kwargs): \n",
    "    '''\n",
    "    Draws a super nice barplot using my favourite colours \n",
    "    Displays the plot on the screen\n",
    "    '''\n",
    "    print(kwargs)\n",
    "    \n",
    "    x = range(1,5)\n",
    "\n",
    "    plt.bar(x, y, color=args)\n",
    "    plt.title(title)\n",
    "    plt.show()\n",
    "    \n",
    "data = [20,50,10,30]\n",
    "\n",
    "barplot(data,'My First Barplot', 'blue', 'purple', 'turquoise', 'indigo',\n",
    "        filename='bar.png')"
   ]
  },
  {
   "cell_type": "code",
   "execution_count": null,
   "metadata": {},
   "outputs": [],
   "source": []
  }
 ],
 "metadata": {
  "kernelspec": {
   "display_name": "Python 3",
   "language": "python",
   "name": "python3"
  },
  "language_info": {
   "codemirror_mode": {
    "name": "ipython",
    "version": 3
   },
   "file_extension": ".py",
   "mimetype": "text/x-python",
   "name": "python",
   "nbconvert_exporter": "python",
   "pygments_lexer": "ipython3",
   "version": "3.7.1"
  }
 },
 "nbformat": 4,
 "nbformat_minor": 2
}
