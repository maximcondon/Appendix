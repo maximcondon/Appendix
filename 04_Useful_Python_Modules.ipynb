{
 "cells": [
  {
   "cell_type": "markdown",
   "metadata": {},
   "source": [
    "# Useful Python Modules\n",
    "\n",
    "- math - contains mathematical functions similar to a scientific calculator\n",
    "- os - allows interaction with the operating system, mostly with files and directories\n",
    "- random - generates random numbers\n",
    "- time - simple handling of times and dates\n",
    "- zipfile - Read and write .zip files\n",
    "- scipy - Scientific calculations\n",
    "- tkinter - graphical interfaces\n",
    "- pypdf2 - rearrange PDF documents\n",
    "- pydocx - read and write word docs\n",
    "- openCV2 - camera & movies"
   ]
  },
  {
   "cell_type": "markdown",
   "metadata": {},
   "source": [
    "## math\n",
    "- math contains mathematical functions similar to a scientific calculator.\n",
    "\n",
    "- In the module, you find various trigonometric and exponential functions. In addition the two constants pi and e are included.\n",
    "\n",
    "- Installed with Python\n",
    "\n",
    "- Learn more: https://docs.python.org/3/library/math.html\n",
    "\n",
    "### Example:\n",
    "- Calculating a square root, a sine, an exponential function and a logarithm."
   ]
  },
  {
   "cell_type": "code",
   "execution_count": 1,
   "metadata": {},
   "outputs": [
    {
     "name": "stdout",
     "output_type": "stream",
     "text": [
      "7.0\n",
      "1.0\n",
      "True\n",
      "8.0\n"
     ]
    }
   ],
   "source": [
    "import math\n",
    "\n",
    "print(math.sqrt(49))\n",
    "\n",
    "print(math.sin(math.pi / 2))\n",
    "\n",
    "print(math.exp(1.0) == math.e)\n",
    "\n",
    "print(math.log(256,2))"
   ]
  },
  {
   "cell_type": "markdown",
   "metadata": {},
   "source": [
    "## os\n",
    "\n",
    "- The module os helps interacting with the operating system, mostly with files and directories.\n",
    "\n",
    "- The os module provides an easy way to interact with files, directories and other parts of your operating system. It contains many functions to list, change, copy, remove and examine files and directories.\n",
    "\n",
    "- Installed with Python\n",
    "\n",
    "- Learn more: https://docs.python.org/3/library/os.html\n",
    "\n",
    "### Example:\n",
    "- Change directory and list its contents:"
   ]
  },
  {
   "cell_type": "code",
   "execution_count": 2,
   "metadata": {},
   "outputs": [],
   "source": [
    "import os"
   ]
  },
  {
   "cell_type": "code",
   "execution_count": 3,
   "metadata": {},
   "outputs": [
    {
     "data": {
      "text/plain": [
       "'/Users/maximcondon/Desktop/Spiced/03_Week_3'"
      ]
     },
     "execution_count": 3,
     "metadata": {},
     "output_type": "execute_result"
    }
   ],
   "source": [
    "pwd"
   ]
  },
  {
   "cell_type": "code",
   "execution_count": 9,
   "metadata": {},
   "outputs": [],
   "source": [
    "os.chdir('/Users/maximcondon/Desktop/Spiced/03_Week_3/')"
   ]
  },
  {
   "cell_type": "code",
   "execution_count": 10,
   "metadata": {
    "scrolled": true
   },
   "outputs": [
    {
     "data": {
      "text/plain": [
       "['06_Useful_Python_Modules.ipynb',\n",
       " '03_Boston_EDA_Feature_Engineering.ipynb',\n",
       " 'cache',\n",
       " '02_GradientDescent.ipynb',\n",
       " 'debugging_tutorial',\n",
       " '05_Regularisation_Applied_To_BostonHousing.ipynb',\n",
       " '.ipynb_checkpoints',\n",
       " 'linear.png',\n",
       " '01_LinearRegression.ipynb',\n",
       " '04_Regularisation.ipynb',\n",
       " 'Project_DataOlympics']"
      ]
     },
     "execution_count": 10,
     "metadata": {},
     "output_type": "execute_result"
    }
   ],
   "source": [
    "os.listdir('.')"
   ]
  },
  {
   "cell_type": "markdown",
   "metadata": {},
   "source": [
    "Check whether a file exists:"
   ]
  },
  {
   "cell_type": "code",
   "execution_count": 13,
   "metadata": {},
   "outputs": [
    {
     "data": {
      "text/plain": [
       "True"
      ]
     },
     "execution_count": 13,
     "metadata": {},
     "output_type": "execute_result"
    }
   ],
   "source": [
    "os.path.exists('os.md')"
   ]
  },
  {
   "cell_type": "markdown",
   "metadata": {},
   "source": [
    "Copy a file and remove it afterwards:"
   ]
  },
  {
   "cell_type": "code",
   "execution_count": 14,
   "metadata": {},
   "outputs": [],
   "source": [
    "os.system('cp os.md copy.md')\n",
    "os.remove('copy.md')"
   ]
  },
  {
   "cell_type": "markdown",
   "metadata": {},
   "source": [
    "### Functions\n",
    "\n",
    "#### Composing paths\n",
    "\n",
    "The `os.path.join` method prevents slashes/backslashes causing a mess when concatenating directory + file names:"
   ]
  },
  {
   "cell_type": "code",
   "execution_count": 15,
   "metadata": {},
   "outputs": [],
   "source": [
    "import os.path as p\n",
    "\n",
    "path = '/Users/maximcondon/Desktop/Spiced/03_Week_3/'\n",
    "name = 'os.md'\n",
    "\n",
    "fn = p.join(path, name)"
   ]
  },
  {
   "cell_type": "code",
   "execution_count": 16,
   "metadata": {},
   "outputs": [
    {
     "data": {
      "text/plain": [
       "'/Users/maximcondon/Desktop/Spiced/03_Week_3/os.md'"
      ]
     },
     "execution_count": 16,
     "metadata": {},
     "output_type": "execute_result"
    }
   ],
   "source": [
    "fn"
   ]
  },
  {
   "cell_type": "markdown",
   "metadata": {},
   "source": [
    "and `os.path.split` reverses the operation:"
   ]
  },
  {
   "cell_type": "code",
   "execution_count": 17,
   "metadata": {},
   "outputs": [
    {
     "name": "stdout",
     "output_type": "stream",
     "text": [
      "/Users/maximcondon/Desktop/Spiced/03_Week_3 os.md\n"
     ]
    }
   ],
   "source": [
    "path, name = p.split(fn)\n",
    "print(path, name)"
   ]
  },
  {
   "cell_type": "markdown",
   "metadata": {},
   "source": [
    "#### Examine directories\n",
    "The `os.listdir` function produces a list with all file names in a given directory:"
   ]
  },
  {
   "cell_type": "code",
   "execution_count": 19,
   "metadata": {},
   "outputs": [
    {
     "data": {
      "text/plain": [
       "['financial_monthly_data.csv',\n",
       " 'binary.py',\n",
       " 'Model_Summary.ods',\n",
       " '09_Week_9',\n",
       " '.DS_Store']"
      ]
     },
     "execution_count": 19,
     "metadata": {},
     "output_type": "execute_result"
    }
   ],
   "source": [
    "import os\n",
    "\n",
    "os.listdir('/Users/maximcondon/Desktop/Spiced')[:5]"
   ]
  },
  {
   "cell_type": "markdown",
   "metadata": {},
   "source": [
    "With `os.getcwd` you see which directory your Python session is in:"
   ]
  },
  {
   "cell_type": "code",
   "execution_count": 20,
   "metadata": {},
   "outputs": [
    {
     "data": {
      "text/plain": [
       "'/Users/maximcondon/Desktop/Spiced/03_Week_3'"
      ]
     },
     "execution_count": 20,
     "metadata": {},
     "output_type": "execute_result"
    }
   ],
   "source": [
    "os.getcwd()"
   ]
  },
  {
   "cell_type": "markdown",
   "metadata": {},
   "source": [
    "Finally, `os.chdir` changes the direcory:"
   ]
  },
  {
   "cell_type": "code",
   "execution_count": 21,
   "metadata": {},
   "outputs": [],
   "source": [
    "os.chdir('/Users/maximcondon/Desktop')"
   ]
  },
  {
   "cell_type": "code",
   "execution_count": 22,
   "metadata": {},
   "outputs": [
    {
     "data": {
      "text/plain": [
       "'/Users/maximcondon/Desktop'"
      ]
     },
     "execution_count": 22,
     "metadata": {},
     "output_type": "execute_result"
    }
   ],
   "source": [
    "pwd"
   ]
  },
  {
   "cell_type": "code",
   "execution_count": 23,
   "metadata": {},
   "outputs": [],
   "source": [
    "os.chdir('/Users/maximcondon/Desktop/Spiced/03_Week_3/')"
   ]
  },
  {
   "cell_type": "markdown",
   "metadata": {},
   "source": [
    "#### Examine files\n",
    "If you have a file or directory name name, `os.path` offers several functions to examine their existence, type and modification time:"
   ]
  },
  {
   "cell_type": "code",
   "execution_count": 26,
   "metadata": {},
   "outputs": [
    {
     "data": {
      "text/plain": [
       "True"
      ]
     },
     "execution_count": 26,
     "metadata": {},
     "output_type": "execute_result"
    }
   ],
   "source": [
    "p.exists(fn)"
   ]
  },
  {
   "cell_type": "code",
   "execution_count": 27,
   "metadata": {},
   "outputs": [
    {
     "data": {
      "text/plain": [
       "True"
      ]
     },
     "execution_count": 27,
     "metadata": {},
     "output_type": "execute_result"
    }
   ],
   "source": [
    "p.isfile(fn)"
   ]
  },
  {
   "cell_type": "code",
   "execution_count": 28,
   "metadata": {},
   "outputs": [
    {
     "data": {
      "text/plain": [
       "False"
      ]
     },
     "execution_count": 28,
     "metadata": {},
     "output_type": "execute_result"
    }
   ],
   "source": [
    "p.isdir(fn)"
   ]
  },
  {
   "cell_type": "code",
   "execution_count": 29,
   "metadata": {},
   "outputs": [
    {
     "data": {
      "text/plain": [
       "1568921286.813007"
      ]
     },
     "execution_count": 29,
     "metadata": {},
     "output_type": "execute_result"
    }
   ],
   "source": [
    "p.getmtime(fn)"
   ]
  },
  {
   "cell_type": "code",
   "execution_count": 25,
   "metadata": {},
   "outputs": [
    {
     "data": {
      "text/plain": [
       "1568921286.813007"
      ]
     },
     "execution_count": 25,
     "metadata": {},
     "output_type": "execute_result"
    }
   ],
   "source": [
    "p.exists(fn)\n",
    "p.isfile(fn)\n",
    "p.isdir(fn)\n",
    "p.getmtime(fn)"
   ]
  },
  {
   "cell_type": "markdown",
   "metadata": {},
   "source": [
    "`os.access` checks access permissions:"
   ]
  },
  {
   "cell_type": "code",
   "execution_count": 30,
   "metadata": {},
   "outputs": [
    {
     "data": {
      "text/plain": [
       "False"
      ]
     },
     "execution_count": 30,
     "metadata": {},
     "output_type": "execute_result"
    }
   ],
   "source": [
    "os.access('/boot', os.F_OK)"
   ]
  },
  {
   "cell_type": "markdown",
   "metadata": {},
   "source": [
    "#### Traversing directories\n",
    "`os.walk` traverses all directories (and subdirectories), producing all file names within:"
   ]
  },
  {
   "cell_type": "code",
   "execution_count": 39,
   "metadata": {
    "scrolled": true
   },
   "outputs": [
    {
     "name": "stdout",
     "output_type": "stream",
     "text": [
      "('/Users/maximcondon/Desktop/Spiced/03_Week_3/Project_DataOlympics/', ['bike-sharing-demand', '.git'], ['README.md'])\n",
      "('/Users/maximcondon/Desktop/Spiced/03_Week_3/Project_DataOlympics/bike-sharing-demand', ['.ipynb_checkpoints'], ['kaggleRandomForestRegressor.csv', 'sampleSubmission.csv', 'test.csv', 'Olympics_Bike_Sharing.ipynb', 'train.csv'])\n",
      "('/Users/maximcondon/Desktop/Spiced/03_Week_3/Project_DataOlympics/bike-sharing-demand/.ipynb_checkpoints', [], ['Olympics_Bike_Sharing-checkpoint.ipynb'])\n",
      "('/Users/maximcondon/Desktop/Spiced/03_Week_3/Project_DataOlympics/.git', ['objects', 'info', 'logs', 'hooks', 'refs'], ['ORIG_HEAD', 'config', 'HEAD', 'description', 'index', 'packed-refs', 'FETCH_HEAD'])\n",
      "('/Users/maximcondon/Desktop/Spiced/03_Week_3/Project_DataOlympics/.git/objects', ['59', '93', '9c', 'c8', 'pack', 'info', '53', '97', 'b8', 'c5', '14'], [])\n",
      "('/Users/maximcondon/Desktop/Spiced/03_Week_3/Project_DataOlympics/.git/objects/59', [], ['71b1d240bedeb2c29bf8d8e8c935a71f93c7eb'])\n",
      "('/Users/maximcondon/Desktop/Spiced/03_Week_3/Project_DataOlympics/.git/objects/93', [], ['e6180892e991cc0f60a9c92b30f9469989401b'])\n",
      "('/Users/maximcondon/Desktop/Spiced/03_Week_3/Project_DataOlympics/.git/objects/9c', [], ['ebc645969860be79208e88cb9152d60012044f'])\n",
      "('/Users/maximcondon/Desktop/Spiced/03_Week_3/Project_DataOlympics/.git/objects/c8', [], ['31c268c433c8c32ef8c4b79c8776b8b8c00c22'])\n",
      "('/Users/maximcondon/Desktop/Spiced/03_Week_3/Project_DataOlympics/.git/objects/pack', [], [])\n",
      "('/Users/maximcondon/Desktop/Spiced/03_Week_3/Project_DataOlympics/.git/objects/info', [], [])\n",
      "('/Users/maximcondon/Desktop/Spiced/03_Week_3/Project_DataOlympics/.git/objects/53', [], ['cd494eaba9ead50473bee0dbe96c4516021e43'])\n",
      "('/Users/maximcondon/Desktop/Spiced/03_Week_3/Project_DataOlympics/.git/objects/97', [], ['f78a87ddf15df99e75494121ba7e8cde161960'])\n",
      "('/Users/maximcondon/Desktop/Spiced/03_Week_3/Project_DataOlympics/.git/objects/b8', [], ['0acaf763ed321a8180946d26ff5b797d337695'])\n",
      "('/Users/maximcondon/Desktop/Spiced/03_Week_3/Project_DataOlympics/.git/objects/c5', [], ['6c46d51e5636306498c8b05a2c7d34ba97415d'])\n",
      "('/Users/maximcondon/Desktop/Spiced/03_Week_3/Project_DataOlympics/.git/objects/14', [], ['b8d0e0eb1afa9e8c37f7e46b3564c6455d16bd'])\n",
      "('/Users/maximcondon/Desktop/Spiced/03_Week_3/Project_DataOlympics/.git/info', [], ['exclude'])\n",
      "('/Users/maximcondon/Desktop/Spiced/03_Week_3/Project_DataOlympics/.git/logs', ['refs'], ['HEAD'])\n",
      "('/Users/maximcondon/Desktop/Spiced/03_Week_3/Project_DataOlympics/.git/logs/refs', ['heads', 'remotes'], [])\n",
      "('/Users/maximcondon/Desktop/Spiced/03_Week_3/Project_DataOlympics/.git/logs/refs/heads', [], ['master'])\n",
      "('/Users/maximcondon/Desktop/Spiced/03_Week_3/Project_DataOlympics/.git/logs/refs/remotes', ['origin'], [])\n",
      "('/Users/maximcondon/Desktop/Spiced/03_Week_3/Project_DataOlympics/.git/logs/refs/remotes/origin', [], ['HEAD', 'master'])\n",
      "('/Users/maximcondon/Desktop/Spiced/03_Week_3/Project_DataOlympics/.git/hooks', [], ['commit-msg.sample', 'pre-rebase.sample', 'pre-commit.sample', 'applypatch-msg.sample', 'fsmonitor-watchman.sample', 'pre-receive.sample', 'prepare-commit-msg.sample', 'post-update.sample', 'pre-applypatch.sample', 'pre-push.sample', 'update.sample'])\n",
      "('/Users/maximcondon/Desktop/Spiced/03_Week_3/Project_DataOlympics/.git/refs', ['heads', 'tags', 'remotes'], [])\n",
      "('/Users/maximcondon/Desktop/Spiced/03_Week_3/Project_DataOlympics/.git/refs/heads', [], ['master'])\n",
      "('/Users/maximcondon/Desktop/Spiced/03_Week_3/Project_DataOlympics/.git/refs/tags', [], [])\n",
      "('/Users/maximcondon/Desktop/Spiced/03_Week_3/Project_DataOlympics/.git/refs/remotes', ['origin'], [])\n",
      "('/Users/maximcondon/Desktop/Spiced/03_Week_3/Project_DataOlympics/.git/refs/remotes/origin', [], ['HEAD', 'master'])\n"
     ]
    }
   ],
   "source": [
    "for x in os.walk('/Users/maximcondon/Desktop/Spiced/03_Week_3/Project_DataOlympics/'):\n",
    "    print(x)"
   ]
  },
  {
   "cell_type": "markdown",
   "metadata": {},
   "source": [
    "#### System calls\n",
    "The `os.system` function is an easy (primitive) way to call programs in your operating system:"
   ]
  },
  {
   "cell_type": "code",
   "execution_count": 40,
   "metadata": {},
   "outputs": [
    {
     "data": {
      "text/plain": [
       "32512"
      ]
     },
     "execution_count": 40,
     "metadata": {},
     "output_type": "execute_result"
    }
   ],
   "source": [
    "os.system('dir')"
   ]
  },
  {
   "cell_type": "markdown",
   "metadata": {},
   "source": [
    "#### Alternatives to os\n",
    "The builtin module glob is a modern alternative to os for working with paths and filenames."
   ]
  },
  {
   "cell_type": "markdown",
   "metadata": {},
   "source": [
    "## random\n",
    "\n",
    "- Generates random numbers\n",
    "\n",
    "- `random` contains generators for the most common distributions.\n",
    "\n",
    "- Installed with Python\n",
    "\n",
    "### Example"
   ]
  },
  {
   "cell_type": "markdown",
   "metadata": {},
   "source": [
    "#### Creating random integers\n",
    "One most wanted function is to create random integers in a given range:"
   ]
  },
  {
   "cell_type": "code",
   "execution_count": 43,
   "metadata": {},
   "outputs": [],
   "source": [
    "import random"
   ]
  },
  {
   "cell_type": "code",
   "execution_count": 45,
   "metadata": {},
   "outputs": [
    {
     "data": {
      "text/plain": [
       "5"
      ]
     },
     "execution_count": 45,
     "metadata": {},
     "output_type": "execute_result"
    }
   ],
   "source": [
    "dice = random.randint(1,6)\n",
    "dice"
   ]
  },
  {
   "cell_type": "markdown",
   "metadata": {},
   "source": [
    "#### Creating random floats\n",
    "The `random()` functin generates float numbers between 0 and 1:"
   ]
  },
  {
   "cell_type": "code",
   "execution_count": 47,
   "metadata": {},
   "outputs": [
    {
     "name": "stdout",
     "output_type": "stream",
     "text": [
      "0.5951954333887965\n"
     ]
    }
   ],
   "source": [
    "print(random.random())"
   ]
  },
  {
   "cell_type": "markdown",
   "metadata": {},
   "source": [
    "#### Generate random numbers from a few distributions"
   ]
  },
  {
   "cell_type": "code",
   "execution_count": 48,
   "metadata": {},
   "outputs": [
    {
     "data": {
      "text/plain": [
       "0.20147613492054312"
      ]
     },
     "execution_count": 48,
     "metadata": {},
     "output_type": "execute_result"
    }
   ],
   "source": [
    "random.randint(1,6)\n",
    "\n",
    "random.random()\n",
    "\n",
    "random.gauss(0.0, 1.0)"
   ]
  },
  {
   "cell_type": "markdown",
   "metadata": {},
   "source": [
    "#### Shuffle a list"
   ]
  },
  {
   "cell_type": "code",
   "execution_count": 52,
   "metadata": {},
   "outputs": [],
   "source": [
    "data = [1, 2, 3, 4]"
   ]
  },
  {
   "cell_type": "code",
   "execution_count": 56,
   "metadata": {},
   "outputs": [
    {
     "data": {
      "text/plain": [
       "[1, 3, 4, 2]"
      ]
     },
     "execution_count": 56,
     "metadata": {},
     "output_type": "execute_result"
    }
   ],
   "source": [
    "random.shuffle(data)\n",
    "data"
   ]
  },
  {
   "cell_type": "markdown",
   "metadata": {},
   "source": [
    "#### Creating random lists\n",
    "Random combinations of elements with repetition:"
   ]
  },
  {
   "cell_type": "code",
   "execution_count": 61,
   "metadata": {},
   "outputs": [
    {
     "name": "stdout",
     "output_type": "stream",
     "text": [
      "CCAGTATAGATACCGGTTCG\n"
     ]
    }
   ],
   "source": [
    "from random import choice\n",
    "\n",
    "bases = ['A','C','G','T']\n",
    "dna = [choice(bases) for i in range(20)]\n",
    "print(''.join(dna))"
   ]
  },
  {
   "cell_type": "markdown",
   "metadata": {},
   "source": [
    "When elements are to be picked without repetition, you would use, the sample function:"
   ]
  },
  {
   "cell_type": "code",
   "execution_count": 62,
   "metadata": {},
   "outputs": [],
   "source": [
    "from random import sample\n",
    "\n",
    "flavors = ['vanilla','banana','mint']\n",
    "icecream = sample(flavors, 2)"
   ]
  },
  {
   "cell_type": "code",
   "execution_count": 63,
   "metadata": {},
   "outputs": [
    {
     "data": {
      "text/plain": [
       "['mint', 'vanilla']"
      ]
     },
     "execution_count": 63,
     "metadata": {},
     "output_type": "execute_result"
    }
   ],
   "source": [
    "icecream"
   ]
  },
  {
   "cell_type": "markdown",
   "metadata": {},
   "source": [
    "## time\n",
    "\n",
    "- Simple handling of times and dates.\n",
    "\n",
    "- The functions in time return the time and date in a structured format that can be formated to custom strings.\n",
    "\n",
    "- Installed with Python\n",
    "\n",
    "### Example\n",
    "\n",
    "The `time` module offers functions for getting the current time and date."
   ]
  },
  {
   "cell_type": "code",
   "execution_count": 64,
   "metadata": {},
   "outputs": [
    {
     "name": "stdout",
     "output_type": "stream",
     "text": [
      "Thu Sep 19 23:57:44 2019\n",
      "Thu 19.09.\n"
     ]
    }
   ],
   "source": [
    "import time\n",
    "\n",
    "print(time.asctime())\n",
    "\n",
    "print(time.strftime('%a %d.%m.', time.localtime()))"
   ]
  },
  {
   "cell_type": "markdown",
   "metadata": {},
   "source": [
    "Wait for two seconds:"
   ]
  },
  {
   "cell_type": "code",
   "execution_count": 65,
   "metadata": {},
   "outputs": [],
   "source": [
    "time.sleep(2)"
   ]
  },
  {
   "cell_type": "markdown",
   "metadata": {},
   "source": [
    "The `datetime` module also helps to format dates:"
   ]
  },
  {
   "cell_type": "code",
   "execution_count": 68,
   "metadata": {},
   "outputs": [
    {
     "data": {
      "text/plain": [
       "'24.12.2015'"
      ]
     },
     "execution_count": 68,
     "metadata": {},
     "output_type": "execute_result"
    }
   ],
   "source": [
    "import datetime\n",
    "\n",
    "date = datetime.date(2015, 12, 24)\n",
    "date.strftime(\"%d.%m.%Y\")"
   ]
  },
  {
   "cell_type": "markdown",
   "metadata": {},
   "source": [
    "Dates can be converted to integer numbers:"
   ]
  },
  {
   "cell_type": "code",
   "execution_count": 70,
   "metadata": {},
   "outputs": [
    {
     "data": {
      "text/plain": [
       "735956"
      ]
     },
     "execution_count": 70,
     "metadata": {},
     "output_type": "execute_result"
    }
   ],
   "source": [
    "date = datetime.date(2015, 12, 24)\n",
    "number = date.toordinal()\n",
    "number"
   ]
  },
  {
   "cell_type": "markdown",
   "metadata": {},
   "source": [
    "and back"
   ]
  },
  {
   "cell_type": "code",
   "execution_count": 71,
   "metadata": {},
   "outputs": [
    {
     "data": {
      "text/plain": [
       "datetime.date(1, 1, 7)"
      ]
     },
     "execution_count": 71,
     "metadata": {},
     "output_type": "execute_result"
    }
   ],
   "source": [
    "datetime.date.fromordinal(7)"
   ]
  },
  {
   "cell_type": "markdown",
   "metadata": {},
   "source": [
    "## zipfile\n",
    "\n",
    "- Read and write .zip files.\n",
    "\n",
    "- You can add both existing files and strings to a zip file. If you are adding strings you need to specify the file name it is written to. When you extract files to a folder, the output folder is automatically created.\n",
    "\n",
    "- Installed with Python\n",
    "\n",
    "### Example\n",
    "Create a new zip archive and add files to it:"
   ]
  },
  {
   "cell_type": "code",
   "execution_count": null,
   "metadata": {},
   "outputs": [],
   "source": [
    "import zipfile\n",
    "z = zipfile.ZipFile('archive.zip', 'w')\n",
    "z.write('myfile.txt')                   # has to exist\n",
    "z.writestr('test.txt', 'Hello World')   # new\n",
    "z.close()"
   ]
  },
  {
   "cell_type": "markdown",
   "metadata": {},
   "source": [
    "List contents of the newly created zip file:"
   ]
  },
  {
   "cell_type": "code",
   "execution_count": null,
   "metadata": {},
   "outputs": [],
   "source": [
    "z = zipfile.ZipFile('archive.zip')\n",
    "print(z.namelist())"
   ]
  },
  {
   "cell_type": "markdown",
   "metadata": {},
   "source": [
    "Extract a file to a new folder:"
   ]
  },
  {
   "cell_type": "code",
   "execution_count": null,
   "metadata": {},
   "outputs": [],
   "source": [
    "print(z.extract('test.txt', 'myfolder'))\n",
    "z.close()"
   ]
  },
  {
   "cell_type": "markdown",
   "metadata": {},
   "source": [
    "## scipy\n",
    "\n",
    "- Scientific calculations.\n",
    "\n",
    "- scipy is a Python library for fitting functions and other kinds of numerical analyses. You find functions for signal processing, Fourier Transform, generating random datasets and many more. Scipy uses numpy and matplotlib.\n",
    "\n",
    "- Not installed with Python! Done so with Anaconda `pip install scipy`\n",
    "\n",
    "### Example\n",
    "Define a square function; create noisy X/Y data using numpy:"
   ]
  },
  {
   "cell_type": "code",
   "execution_count": 78,
   "metadata": {},
   "outputs": [],
   "source": [
    "import numpy as np \n",
    "import matplotlib.pyplot as plt"
   ]
  },
  {
   "cell_type": "code",
   "execution_count": 74,
   "metadata": {},
   "outputs": [],
   "source": [
    "def func(x, a, b):\n",
    "    return a * x**2 + b\n",
    "\n",
    "x = np.linspace(-10, 10, 100)\n",
    "y = func(x, 1, 5)\n",
    "ynoise = y + 20 * np.random.laplace(size=len(x))"
   ]
  },
  {
   "cell_type": "markdown",
   "metadata": {},
   "source": [
    "Fit the parameters of the function with noisy data:"
   ]
  },
  {
   "cell_type": "code",
   "execution_count": 76,
   "metadata": {},
   "outputs": [],
   "source": [
    "from scipy.optimize import curve_fit\n",
    "params, pcov = curve_fit(func, x , ynoise)\n",
    "yfit = func(x, params[0], params[1])"
   ]
  },
  {
   "cell_type": "markdown",
   "metadata": {},
   "source": [
    "Plot the outcome:"
   ]
  },
  {
   "cell_type": "code",
   "execution_count": 79,
   "metadata": {},
   "outputs": [
    {
     "data": {
      "image/png": "[encoded data removed]",
      "text/plain": [
       "<Figure size 432x288 with 1 Axes>"
      ]
     },
     "metadata": {
      "needs_background": "light"
     },
     "output_type": "display_data"
    }
   ],
   "source": [
    "fig = plt.figure\n",
    "plt.plot(x, yfit, \"k-\")\n",
    "plt.plot(x, ynoise, \"bx\")\n",
    "plt.savefig('fit.png')"
   ]
  },
  {
   "cell_type": "markdown",
   "metadata": {},
   "source": [
    "## tkinter - graphical interfaces\n",
    "- tkinter is a framework for creating graphical interfaces that work on all platforms.\n",
    "\n",
    "- It is not exactly great for building a huge GUI, but if you want to have a window and a few controls, it gets the job done quickly."
   ]
  },
  {
   "cell_type": "code",
   "execution_count": null,
   "metadata": {},
   "outputs": [],
   "source": [
    "import tkinter as tk\n",
    "from PIL import Image, ImageTk\n",
    "\n",
    "\n",
    "class Application(tk.Frame):\n",
    "    def __init__(self, master=None):\n",
    "        super().__init__(master)\n",
    "        self.titanic = Image.open(\"titanic.png\")\n",
    "        self.titanic2 = Image.open(\"titanic2.png\")\n",
    "        self.pack()\n",
    "        self.create_widgets()\n",
    "\n",
    "    def sos(self):\n",
    "        print(\"SOS - we are sinking!\")\n",
    "\n",
    "    def collision_iceberg(self):\n",
    "        photo = ImageTk.PhotoImage(self.titanic2)\n",
    "        self.canvas.image = photo\n",
    "        self.im = self.canvas.create_image(0, 0, image=photo, anchor='nw')\n",
    "        \n",
    "    def create_widgets(self):\n",
    "        photo = ImageTk.PhotoImage(self.titanic)\n",
    "        self.canvas = tk.Canvas(self, width=700, height=178, bg='black') \n",
    "        self.canvas.pack(side='top', fill='both', expand='yes')\n",
    "        self.canvas.image = photo # keep a reference!\n",
    "        self.im = self.canvas.create_image(0, 0, image=photo, anchor='nw')\n",
    "\n",
    "        self.quit = tk.Button(self, text=\"Jump ship\", \n",
    "                              command=root.destroy)\n",
    "        self.quit.pack(side=\"bottom\", fill=\"both\", expand=\"yes\")\n",
    "        \n",
    "        self.sink = tk.Button(self, fg=\"red\")\n",
    "        self.sink[\"text\"] = \"Send S.O.S.\"\n",
    "        self.sink[\"command\"] = self.sos\n",
    "        self.sink.pack(side=\"bottom\", fill=\"both\", expand=\"yes\")\n",
    "\n",
    "        self.sink = tk.Button(self)\n",
    "        self.sink[\"text\"] = \"my ship will go on\"\n",
    "        self.sink[\"command\"] = self.collision_iceberg\n",
    "        self.sink.pack(side=\"bottom\", fill=\"both\", expand=\"yes\")\n",
    "\n",
    "\n",
    "\n",
    "root = tk.Tk()\n",
    "app = Application(master=root)\n",
    "app.master.title(\"Titanic-Simulator 1.0\")\n",
    "app.mainloop()"
   ]
  },
  {
   "cell_type": "code",
   "execution_count": null,
   "metadata": {},
   "outputs": [],
   "source": []
  }
 ],
 "metadata": {
  "kernelspec": {
   "display_name": "Python 3",
   "language": "python",
   "name": "python3"
  },
  "language_info": {
   "codemirror_mode": {
    "name": "ipython",
    "version": 3
   },
   "file_extension": ".py",
   "mimetype": "text/x-python",
   "name": "python",
   "nbconvert_exporter": "python",
   "pygments_lexer": "ipython3",
   "version": "3.7.1"
  }
 },
 "nbformat": 4,
 "nbformat_minor": 2
}
