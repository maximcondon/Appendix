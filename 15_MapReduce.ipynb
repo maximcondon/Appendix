{
 "cells": [
  {
   "cell_type": "markdown",
   "metadata": {},
   "source": [
    "# MapReduce\n",
    "\n",
    "### Goal: find the 5 most frequent initials in baby names"
   ]
  },
  {
   "cell_type": "markdown",
   "metadata": {},
   "source": [
    "### Step 1: distribute data\n"
   ]
  },
  {
   "cell_type": "code",
   "execution_count": 1,
   "metadata": {},
   "outputs": [
    {
     "data": {
      "text/plain": [
       "(29769, 3)"
      ]
     },
     "execution_count": 1,
     "metadata": {},
     "output_type": "execute_result"
    }
   ],
   "source": [
    "import pandas as pd\n",
    "\n",
    "df = pd.read_csv('../01_Week_1_Pandas/yob2000.txt', \n",
    "                 names=['name', 'gender', 'count'])\n",
    "df.shape"
   ]
  },
  {
   "cell_type": "code",
   "execution_count": 2,
   "metadata": {},
   "outputs": [
    {
     "data": {
      "text/plain": [
       "((7500, 3), (7500, 3), (7500, 3), (7269, 3))"
      ]
     },
     "execution_count": 2,
     "metadata": {},
     "output_type": "execute_result"
    }
   ],
   "source": [
    "# create partitions\n",
    "df1 = df.iloc[:7500] \n",
    "df2 = df.iloc[7500:15000]\n",
    "df3 = df.iloc[15000:22500]\n",
    "df4 = df.iloc[22500:]\n",
    "\n",
    "df1.shape, df2.shape, df3.shape, df4.shape"
   ]
  },
  {
   "cell_type": "code",
   "execution_count": 3,
   "metadata": {},
   "outputs": [],
   "source": [
    "s1 = df1['name'].str[0].value_counts()\n",
    "s2 = df2['name'].str[0].value_counts()"
   ]
  },
  {
   "cell_type": "code",
   "execution_count": 10,
   "metadata": {},
   "outputs": [
    {
     "data": {
      "text/plain": [
       "A    975\n",
       "K    788\n",
       "M    757\n",
       "J    617\n",
       "S    609\n",
       "C    537\n",
       "L    410\n",
       "D    406\n",
       "T    382\n",
       "R    311\n",
       "B    281\n",
       "E    250\n",
       "N    242\n",
       "H    135\n",
       "I    131\n",
       "G    129\n",
       "Z    100\n",
       "P     97\n",
       "Y     94\n",
       "F     77\n",
       "V     70\n",
       "O     35\n",
       "W     22\n",
       "Q     19\n",
       "X     18\n",
       "U      8\n",
       "Name: name, dtype: int64"
      ]
     },
     "execution_count": 10,
     "metadata": {},
     "output_type": "execute_result"
    }
   ],
   "source": [
    "s1"
   ]
  },
  {
   "cell_type": "markdown",
   "metadata": {},
   "source": [
    "### Step 2: write a mapper function\n",
    "Count all initials and return a dict"
   ]
  },
  {
   "cell_type": "code",
   "execution_count": 11,
   "metadata": {},
   "outputs": [],
   "source": [
    "def mapper(df: pd.DataFrame) -> pd.Series:  # type annotations\n",
    "    \"\"\"counts the initials in one partition\"\"\"\n",
    "    count = df['name'].str[0].value_counts()\n",
    "    return count\n",
    "    \n",
    "# also see: mypy (a pylint for type annotations)"
   ]
  },
  {
   "cell_type": "markdown",
   "metadata": {},
   "source": [
    "### Step 3: write a reducer function\n",
    "Take two mapped dictionaries and merge them"
   ]
  },
  {
   "cell_type": "code",
   "execution_count": 12,
   "metadata": {},
   "outputs": [],
   "source": [
    "def reduce(a: pd.Series, b: pd.Series) -> pd.Series:\n",
    "    return a + b"
   ]
  },
  {
   "cell_type": "markdown",
   "metadata": {},
   "source": [
    "###  Step 4:  Call everything\n",
    "call the funtions, so that you obtain one dict in the end."
   ]
  },
  {
   "cell_type": "code",
   "execution_count": 13,
   "metadata": {},
   "outputs": [
    {
     "data": {
      "text/plain": [
       "A    3316\n",
       "B    1100\n",
       "C    1838\n",
       "D    2237\n",
       "E     996\n",
       "F     344\n",
       "G     612\n",
       "H     598\n",
       "I     476\n",
       "J    2791\n",
       "K    2695\n",
       "L    1354\n",
       "M    2481\n",
       "N    1046\n",
       "O     273\n",
       "P     390\n",
       "Q     148\n",
       "R    1316\n",
       "S    2240\n",
       "T    2025\n",
       "U      66\n",
       "V     269\n",
       "W     199\n",
       "X      66\n",
       "Y     426\n",
       "Z     467\n",
       "Name: name, dtype: int64"
      ]
     },
     "execution_count": 13,
     "metadata": {},
     "output_type": "execute_result"
    }
   ],
   "source": [
    "reduce(\n",
    "    reduce(\n",
    "        mapper(df1), mapper(df2)\n",
    "    ),\n",
    "    reduce(\n",
    "        mapper(df3), mapper(df4)\n",
    "    )\n",
    ")"
   ]
  },
  {
   "cell_type": "code",
   "execution_count": null,
   "metadata": {},
   "outputs": [],
   "source": []
  }
 ],
 "metadata": {
  "kernelspec": {
   "display_name": "Python 3",
   "language": "python",
   "name": "python3"
  },
  "language_info": {
   "codemirror_mode": {
    "name": "ipython",
    "version": 3
   },
   "file_extension": ".py",
   "mimetype": "text/x-python",
   "name": "python",
   "nbconvert_exporter": "python",
   "pygments_lexer": "ipython3",
   "version": "3.7.1"
  },
  "varInspector": {
   "cols": {
    "lenName": 16,
    "lenType": 16,
    "lenVar": 40
   },
   "kernels_config": {
    "python": {
     "delete_cmd_postfix": "",
     "delete_cmd_prefix": "del ",
     "library": "var_list.py",
     "varRefreshCmd": "print(var_dic_list())"
    },
    "r": {
     "delete_cmd_postfix": ") ",
     "delete_cmd_prefix": "rm(",
     "library": "var_list.r",
     "varRefreshCmd": "cat(var_dic_list()) "
    }
   },
   "types_to_exclude": [
    "module",
    "function",
    "builtin_function_or_method",
    "instance",
    "_Feature"
   ],
   "window_display": false
  }
 },
 "nbformat": 4,
 "nbformat_minor": 2
}
