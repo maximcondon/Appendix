{
 "cells": [
  {
   "cell_type": "markdown",
   "metadata": {},
   "source": [
    "# Object Oriented Programming\n",
    "\n",
    "## Strategies for Creating Classes\n",
    "\n",
    "e.g. In computer games, you find interesting problems which can be efficiently solved using classes, demonstrating how useful they are!\n",
    "\n",
    "Python library called **Arcade** for designing games.\n",
    "\n",
    "**arcade.academy** -- **Drawing Primitives**\n",
    "\n",
    "**opengameart.org**\n",
    "\n",
    "You might find at some point after writing lots of functions that they just don't cut it anymore. This might be the time to switch to **CLASSES!**\n",
    "\n",
    "####  If you have many functions that use the same or at least similar parameters, maybe it's time to create a  class!\n",
    "- 1. Write class name\n",
    "- 2. Indent all functions into the class body\n",
    "- 3. Every function in the class needs the parameter self!\n",
    "\n",
    "Then we need to call the class and create an object out of it!"
   ]
  },
  {
   "cell_type": "markdown",
   "metadata": {},
   "source": [
    "## Python Classes/Objects\n",
    "- Python is an object oriented programming language.\n",
    "\n",
    "Almost everything in Python is an object, with its properties and methods.\n",
    "\n",
    "A Class is like an object constructor, or a \"blueprint\" for creating objects.\n",
    "\n",
    "### Create a Class\n",
    "- To create a class, use the keyword `class`!\n",
    "\n",
    "#### Example\n",
    "Create a class named MyClass, with a property named x:"
   ]
  },
  {
   "cell_type": "code",
   "execution_count": 1,
   "metadata": {},
   "outputs": [],
   "source": [
    "class MyClass:\n",
    "    x = 5"
   ]
  },
  {
   "cell_type": "markdown",
   "metadata": {},
   "source": [
    "### Create Object\n",
    "- Now we can use the class named myClass to create objects:\n",
    "\n",
    "#### Example\n",
    "Create an object named p1, and print the value of x:"
   ]
  },
  {
   "cell_type": "code",
   "execution_count": 2,
   "metadata": {},
   "outputs": [
    {
     "name": "stdout",
     "output_type": "stream",
     "text": [
      "5\n"
     ]
    }
   ],
   "source": [
    "p1 = MyClass()\n",
    "print(p1.x)"
   ]
  },
  {
   "cell_type": "markdown",
   "metadata": {},
   "source": [
    "### The __init__( ) Function\n",
    "- The examples above are classes and objects in their simplest form, and are not really useful in real life applications.\n",
    "\n",
    "To understand the meaning of classes we have to understand the built-in `__init__( )` function.\n",
    "\n",
    "All classes have a function called `__init__( )`, which is always executed when the class is being initiated. \n",
    "\n",
    "Use the `__init__( )` function to assign values to object properties, or other operations that are necessary to do when the object is being created:\n",
    "\n",
    "#### Example\n",
    "Create a class named Person, use the `__init__( )` function to assign values for name and age:"
   ]
  },
  {
   "cell_type": "code",
   "execution_count": 3,
   "metadata": {},
   "outputs": [],
   "source": [
    "class Person:\n",
    "    def __init__(self, name, age):\n",
    "        self.name = name\n",
    "        self.age = age\n",
    "        \n",
    "p1 = Person('John', 36)"
   ]
  },
  {
   "cell_type": "code",
   "execution_count": 5,
   "metadata": {},
   "outputs": [
    {
     "name": "stdout",
     "output_type": "stream",
     "text": [
      "John\n",
      "36\n"
     ]
    }
   ],
   "source": [
    "print(p1.name)\n",
    "print(p1.age)"
   ]
  },
  {
   "cell_type": "markdown",
   "metadata": {},
   "source": [
    "**Note:** The `__init__( )` function is called automatically every time the class is being used to create a new object.\n",
    "\n",
    "### Object Methods\n",
    "Objects can also contain methods. Methods in objects are functions that belong to the object.\n",
    "\n",
    "Let us create a method in the Person class:\n",
    "\n",
    "#### Example\n",
    "Insert a function that prints a greeting, and execute it on the p1 object:"
   ]
  },
  {
   "cell_type": "code",
   "execution_count": 10,
   "metadata": {},
   "outputs": [
    {
     "name": "stdout",
     "output_type": "stream",
     "text": [
      "Hello my name is John\n",
      "I am 36 years old\n"
     ]
    }
   ],
   "source": [
    "class Person:\n",
    "    def __init__(self, name, age):\n",
    "        self.name = name\n",
    "        self.age = age\n",
    "\n",
    "    def myfunc(self):\n",
    "        print(\"Hello my name is \" + self.name)\n",
    "    \n",
    "    def myage(self):\n",
    "        print(f'I am {self.age} years old')\n",
    "\n",
    "p1 = Person(\"John\", 36)\n",
    "p1.myfunc()\n",
    "p1.myage()"
   ]
  },
  {
   "cell_type": "markdown",
   "metadata": {},
   "source": [
    "**Note:** The `self` parameter is a reference to the current instance of the class, and is used to access variables that belong to the class.\n",
    "\n",
    "### The self Parameter\n",
    "The `self` parameter is a reference to the current instance of the class, and is used to access variables that belongs to the class.\n",
    "\n",
    "It does not have to be named `self` , you can call it **whatever** you like, but it has to be the first parameter of any function in the class:"
   ]
  },
  {
   "cell_type": "markdown",
   "metadata": {},
   "source": [
    "#### Example\n",
    "Use the words mysillyobject and abc instead of self:"
   ]
  },
  {
   "cell_type": "code",
   "execution_count": 11,
   "metadata": {},
   "outputs": [
    {
     "name": "stdout",
     "output_type": "stream",
     "text": [
      "Hello my name is John\n"
     ]
    }
   ],
   "source": [
    "class Person:\n",
    "    def __init__(mysillyobject, name, age):\n",
    "        mysillyobject.name = name\n",
    "        mysillyobject.age = age\n",
    "\n",
    "    def myfunc(abc):\n",
    "        print(\"Hello my name is \" + abc.name)\n",
    "\n",
    "p1 = Person(\"John\", 36)\n",
    "p1.myfunc()"
   ]
  },
  {
   "cell_type": "markdown",
   "metadata": {},
   "source": [
    "### Modify Object Properties\n",
    "You can modify properties on objects like this:\n",
    "\n",
    "#### Example\n",
    "Set the age of p1 to 40:"
   ]
  },
  {
   "cell_type": "code",
   "execution_count": 12,
   "metadata": {},
   "outputs": [],
   "source": [
    "p1.age = 40"
   ]
  },
  {
   "cell_type": "code",
   "execution_count": 13,
   "metadata": {},
   "outputs": [
    {
     "name": "stdout",
     "output_type": "stream",
     "text": [
      "40\n"
     ]
    }
   ],
   "source": [
    "print(p1.age)"
   ]
  },
  {
   "cell_type": "markdown",
   "metadata": {},
   "source": [
    "### Delete Object Properties\n",
    "You can delete properties on objects by using the del keyword:\n",
    "\n",
    "#### Example\n",
    "Delete the age property from the p1 object:"
   ]
  },
  {
   "cell_type": "code",
   "execution_count": 14,
   "metadata": {},
   "outputs": [],
   "source": [
    "del p1"
   ]
  },
  {
   "cell_type": "code",
   "execution_count": 15,
   "metadata": {},
   "outputs": [
    {
     "ename": "NameError",
     "evalue": "name 'p1' is not defined",
     "output_type": "error",
     "traceback": [
      "\u001b[0;31m---------------------------------------------------------------------------\u001b[0m",
      "\u001b[0;31mNameError\u001b[0m                                 Traceback (most recent call last)",
      "\u001b[0;32m<ipython-input-15-9506c9e80e91>\u001b[0m in \u001b[0;36m<module>\u001b[0;34m\u001b[0m\n\u001b[0;32m----> 1\u001b[0;31m \u001b[0mprint\u001b[0m\u001b[0;34m(\u001b[0m\u001b[0mp1\u001b[0m\u001b[0;34m.\u001b[0m\u001b[0mage\u001b[0m\u001b[0;34m)\u001b[0m\u001b[0;34m\u001b[0m\u001b[0;34m\u001b[0m\u001b[0m\n\u001b[0m",
      "\u001b[0;31mNameError\u001b[0m: name 'p1' is not defined"
     ]
    }
   ],
   "source": [
    "print(p1.age)"
   ]
  },
  {
   "cell_type": "markdown",
   "metadata": {},
   "source": [
    "## OOP Strategies\n",
    "\n",
    "#### 1. Wrap functions in a class\n",
    "\n",
    "#### 2. Define attributes (paper + __init__)\n",
    "\n"
   ]
  },
  {
   "cell_type": "code",
   "execution_count": null,
   "metadata": {},
   "outputs": [],
   "source": [
    "class DungeonGame:\n",
    "    '''\n",
    "    Then we take all the functions that should be inside that class and indent them!\n",
    "    Can think of a class 'as a function that creates objects' - false but they get it\n",
    "    '''\n",
    "    \n",
    "    def create_level(self, player):\n",
    "        ...\n",
    "    \n",
    "    def attack(self, player, monster):\n",
    "        ...\n",
    "    \n",
    "    def handle_keyboard(self, player):\n",
    "        ...\n",
    "    \n",
    "    def create_monsters(self, monsters, level, player):\n",
    "        mon = []\n",
    "        for name, x, y in monsters:\n",
    "            mtype = MONSTERS[name]\n",
    "            m = mtype(Vector(x, y), level, player)\n",
    "            mon.append(m)\n",
    "        return mon\n",
    "\n",
    "dungeon_game = DungeonGame() #Creates an object\n",
    "\n",
    "level = dungeon_game.create_level(player) # Don't need to include self here!\n",
    "\n",
    "dungeon_game.handle_keyboard(player)\n"
   ]
  },
  {
   "cell_type": "markdown",
   "metadata": {},
   "source": [
    "### State Diagram\n",
    "\n",
    "- Let's say our players start: Healthy\n",
    "- They take damage and become: Wounded\n",
    "- They take more damage and: Dead\n",
    "\n",
    "You can go from healthy to wounded, and wounded to dead. Can heal from wounded to healthy.\n",
    "\n",
    "And could incorporate design decisions: Can be revived from dead to healthy, or add in a 'Power Mode' where your hero becomes invincible for a time etc \n",
    "\n",
    "**See: Classes.py**"
   ]
  },
  {
   "cell_type": "code",
   "execution_count": null,
   "metadata": {},
   "outputs": [],
   "source": []
  }
 ],
 "metadata": {
  "kernelspec": {
   "display_name": "Python 3",
   "language": "python",
   "name": "python3"
  },
  "language_info": {
   "codemirror_mode": {
    "name": "ipython",
    "version": 3
   },
   "file_extension": ".py",
   "mimetype": "text/x-python",
   "name": "python",
   "nbconvert_exporter": "python",
   "pygments_lexer": "ipython3",
   "version": "3.7.1"
  }
 },
 "nbformat": 4,
 "nbformat_minor": 2
}
