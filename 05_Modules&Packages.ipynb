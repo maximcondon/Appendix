{
 "cells": [
  {
   "cell_type": "markdown",
   "metadata": {},
   "source": [
    "# Modules\n",
    "\n",
    "Any Python file (ending with `.py`) can be imported by Python script. A single Python file is also called a **module**. This helps you to divide a bigger program into several smaller pieces.\n",
    "\n",
    "For instance if you have a file `names.py` containing the following:"
   ]
  },
  {
   "cell_type": "code",
   "execution_count": null,
   "metadata": {},
   "outputs": [],
   "source": [
    "FIRST_NAMES = ['Alice', 'Bob', 'Charlie']"
   ]
  },
  {
   "cell_type": "markdown",
   "metadata": {},
   "source": [
    "Then you can write (e.g. in a second Python file in the same directory):"
   ]
  },
  {
   "cell_type": "code",
   "execution_count": null,
   "metadata": {},
   "outputs": [],
   "source": [
    "import names\n",
    "print(names.FIRST_NAMES)"
   ]
  },
  {
   "cell_type": "markdown",
   "metadata": {},
   "source": [
    "## How to write a module?\n",
    "A module is simply a Python file that contains variables and functions:"
   ]
  },
  {
   "cell_type": "code",
   "execution_count": null,
   "metadata": {},
   "outputs": [],
   "source": [
    "a = 77\n",
    "\n",
    "def dummy():\n",
    "    return 'dummy'"
   ]
  },
  {
   "cell_type": "markdown",
   "metadata": {},
   "source": [
    "Let’s assume this code is stored in a file `my_module.py`\n",
    "\n",
    "## How to import a module?\n",
    "Write an `import` statement into another Python file. Any of the following:"
   ]
  },
  {
   "cell_type": "code",
   "execution_count": null,
   "metadata": {},
   "outputs": [],
   "source": [
    "import my_module\n",
    "\n",
    "from my_module import a\n",
    "\n",
    "from my_module import a as seventyseven"
   ]
  },
  {
   "cell_type": "markdown",
   "metadata": {},
   "source": [
    "## Is a module executed upon import\n",
    "Any Python code in a module is executed once when imported."
   ]
  },
  {
   "cell_type": "code",
   "execution_count": null,
   "metadata": {},
   "outputs": [],
   "source": [
    "print('hello')"
   ]
  },
  {
   "cell_type": "markdown",
   "metadata": {},
   "source": [
    "Code that should not be executed, needs to be wrapped in a main clause:"
   ]
  },
  {
   "cell_type": "code",
   "execution_count": null,
   "metadata": {},
   "outputs": [],
   "source": [
    "if __name__ == '__main__':\n",
    "    print(\"this is not executed\")"
   ]
  },
  {
   "cell_type": "markdown",
   "metadata": {},
   "source": [
    "## What if a module changes?\n",
    "You need to restart/reset the Python kernel for modules to be reloaded. Unless you use Anaconda, it has some more intelligent mechanism.\n",
    "\n",
    "## Where does Python look for modules?\n",
    "1. In the current directory\n",
    "2. In all directories in the PYTHONPATH environment variable"
   ]
  },
  {
   "cell_type": "markdown",
   "metadata": {},
   "source": [
    "# Packages\n",
    "For big programs, it is useful to divide up the code among several directories. A directory from which you can import Python modules is called a package. To create a package that Python will recognize you need to create a file `__init__.py` (it may be empty).\n",
    "\n",
    "For instance, you could have the following files in a package `namedata`:\n",
    "\n",
    "`namedata/\n",
    "    __init__.py\n",
    "    names.py`"
   ]
  },
  {
   "cell_type": "markdown",
   "metadata": {},
   "source": [
    "## Importing modules and packages\n",
    "\n",
    "To import from a module, a package or their contents, place its name (without .py) needs to be given in the import statement. Import statements can look like this:\n"
   ]
  },
  {
   "cell_type": "code",
   "execution_count": null,
   "metadata": {},
   "outputs": [],
   "source": [
    "import names\n",
    "import names as n\n",
    "from names import FIRST_NAMES\n",
    "from namedata.names import FIRST_NAMES"
   ]
  },
  {
   "cell_type": "markdown",
   "metadata": {},
   "source": [
    "It is strongly recommended to list the imported variables and functions explicitly and not write:"
   ]
  },
  {
   "cell_type": "code",
   "execution_count": null,
   "metadata": {},
   "outputs": [],
   "source": [
    "from names import *"
   ]
  },
  {
   "cell_type": "markdown",
   "metadata": {},
   "source": [
    "The latter makes debugging difficult.\n",
    "\n",
    "When importing, Python generates intermediate files (bytecode) in the `__pycache__` directory that help to execute programs more efficiently. It is managed automatically, and you can safely ignore it.\n",
    "\n",
    "## How does Python find modules and packages?\n",
    "When importing modules or packages, Python needs to know where to find them. There is a certain sequence of directories in which Python looks for things to import:\n",
    "\n",
    "- The current directory.\n",
    "- The site-packages folder (where Python is installed).\n",
    "- In directories in the PYTHONPATH environment variable.\n",
    "\n",
    "You can see all directories from within Python by checking the sys.path variable:"
   ]
  },
  {
   "cell_type": "code",
   "execution_count": null,
   "metadata": {},
   "outputs": [],
   "source": [
    "import sys\n",
    "print sys.path"
   ]
  }
 ],
 "metadata": {
  "kernelspec": {
   "display_name": "Python 3",
   "language": "python",
   "name": "python3"
  },
  "language_info": {
   "codemirror_mode": {
    "name": "ipython",
    "version": 3
   },
   "file_extension": ".py",
   "mimetype": "text/x-python",
   "name": "python",
   "nbconvert_exporter": "python",
   "pygments_lexer": "ipython3",
   "version": "3.7.1"
  }
 },
 "nbformat": 4,
 "nbformat_minor": 2
}
